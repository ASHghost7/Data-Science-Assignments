{
 "cells": [
  {
   "cell_type": "code",
   "execution_count": 3,
   "metadata": {},
   "outputs": [
    {
     "name": "stdout",
     "output_type": "stream",
     "text": [
      "2401\n",
      "4\n",
      "['hi', 'there', 'sam!']\n",
      "['hi', 'there', 'sam!']\n",
      "the diameter of earth is earth 12742 km\n",
      "hello\n",
      "hello\n"
     ]
    }
   ],
   "source": [
    "a = 7\n",
    "print(a**4)\n",
    "\n",
    "b = 19\n",
    "c = 4\n",
    "y = b//c\n",
    "print(y)\n",
    "\n",
    "s = \"hi there sam!\"\n",
    "list1 = s.split()\n",
    "print(list1)\n",
    "print(s.split())\n",
    "\n",
    "planet = \"earth\"\n",
    "diameter = 12742\n",
    "print(\"the diameter of {0} is earth {1} km\" .format(planet, diameter))\n",
    "\n",
    "lst = [1,2,[3,4], [5,[100,200,['hello']],23,11],1,7]\n",
    "grab = lst[3][1][2][0]\n",
    "print(grab)\n",
    "\n",
    "d = {'k1':[1,2,3,{'tricky': ['oh', 'man', 'inception', {'target' : [1,2,3,'hello']}]}]}\n",
    "print(d['k1'][3]['tricky'][3]['target'][3])\n",
    "\n"
   ]
  },
  {
   "cell_type": "code",
   "execution_count": null,
   "metadata": {},
   "outputs": [],
   "source": []
  }
 ],
 "metadata": {
  "kernelspec": {
   "display_name": "Python 3",
   "language": "python",
   "name": "python3"
  },
  "language_info": {
   "codemirror_mode": {
    "name": "ipython",
    "version": 3
   },
   "file_extension": ".py",
   "mimetype": "text/x-python",
   "name": "python",
   "nbconvert_exporter": "python",
   "pygments_lexer": "ipython3",
   "version": "3.11.9"
  }
 },
 "nbformat": 4,
 "nbformat_minor": 2
}
