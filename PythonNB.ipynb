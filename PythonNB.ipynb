{
 "cells": [
  {
   "cell_type": "code",
   "execution_count": 12,
   "metadata": {},
   "outputs": [
    {
     "name": "stdout",
     "output_type": "stream",
     "text": [
      "2401\n"
     ]
    }
   ],
   "source": [
    "#squarinf a number\n",
    "a = 7\n",
    "print(a**4)\n"
   ]
  },
  {
   "cell_type": "code",
   "execution_count": 13,
   "metadata": {},
   "outputs": [
    {
     "name": "stdout",
     "output_type": "stream",
     "text": [
      "['hi', 'there', 'sam!']\n",
      "['hi', 'there', 'sam!']\n"
     ]
    }
   ],
   "source": [
    "#spiltting \n",
    "s = \"hi there sam!\"\n",
    "list1 = s.split()\n",
    "print(list1)\n",
    "print(s.split())\n",
    "\n",
    "email = \"acsec@sdcds.csd\"\n",
    "print(email.split(\"@\"))\n"
   ]
  },
  {
   "cell_type": "code",
   "execution_count": 14,
   "metadata": {},
   "outputs": [
    {
     "name": "stdout",
     "output_type": "stream",
     "text": [
      "the diameter of earth is earth 12742 km\n"
     ]
    }
   ],
   "source": [
    "#Indexing\n",
    "planet = \"earth\"\n",
    "diameter = 12742\n",
    "print(\"the diameter of {0} is earth {1} km\" .format(planet, diameter))\n"
   ]
  },
  {
   "cell_type": "code",
   "execution_count": 1,
   "metadata": {},
   "outputs": [
    {
     "name": "stdout",
     "output_type": "stream",
     "text": [
      "hello\n"
     ]
    }
   ],
   "source": [
    "#List\n",
    "lst = [1,2,[3,4], [5,[100,200,['hello']],23,11],1,7]\n",
    "grab = lst[3][1][2][0]\n",
    "print(grab)"
   ]
  },
  {
   "cell_type": "code",
   "execution_count": 3,
   "metadata": {},
   "outputs": [
    {
     "name": "stdout",
     "output_type": "stream",
     "text": [
      "hello\n"
     ]
    }
   ],
   "source": [
    "#Dictionary\n",
    "d = {'k1':[1,2,3,{'tricky': ['oh', 'man', 'inception', {'target' : [1,2,3,'hello']}]}]}\n",
    "print(d['k1'][3]['tricky'][3]['target'][3])"
   ]
  },
  {
   "cell_type": "code",
   "execution_count": 4,
   "metadata": {},
   "outputs": [
    {
     "name": "stdout",
     "output_type": "stream",
     "text": [
      "Roll No. :  12\n",
      "Student Name :  abhishek\n",
      "Marks in Physics :  98\n",
      "Marks in Chemistry :  99\n",
      "Marks in Maths :  100\n",
      "Grade : Distinction\n",
      "Status: Pass\n"
     ]
    }
   ],
   "source": [
    "#. Write a program to input roll no, student name, marks of physics, chemistry and maths out of 100. (0-100).Calculate total,\n",
    "#  percentage, calculate STATUS (pass, fail) if students scores above 40 in all the 3 subjects the STATUS should be pass otherwise\n",
    "#  fail. Calculate GRADE if STATUS is pass.\n",
    "\n",
    "Roll_no = int(input(\"Roll no : \"))\n",
    "student_name = input(\"name : \")\n",
    "Marks_Of_Physics = int(input(\"Marks Of Physics : \"))\n",
    "Marks_Of_Chemistry = int(input(\"Marks Of Chemistry : \"))\n",
    "Marks_Of_Maths = int(input(\"Marks Of Maths : \"))\n",
    "\n",
    "print(\"Roll No. : \", Roll_no)\n",
    "print(\"Student Name : \", student_name)\n",
    "print(\"Marks in Physics : \", Marks_Of_Physics)\n",
    "print(\"Marks in Chemistry : \", Marks_Of_Chemistry)\n",
    "print(\"Marks in Maths : \", Marks_Of_Maths)\n",
    "\n",
    "\n",
    "total = Marks_Of_Physics + Marks_Of_Chemistry + Marks_Of_Maths\n",
    "percentage = total / 3\n",
    "\n",
    "def grade():\n",
    "    if(total>70 ):\n",
    "        print(\"Grade : Distinction\")\n",
    "    elif(total<40):\n",
    "        print(\"Grade : Fail\")\n",
    "    elif(total>60):\n",
    "        print(\"Grade : First Class\")\n",
    "    elif(total>50):\n",
    "        print(\"Grade : Second Class\")\n",
    "    elif(total>40):\n",
    "        print(\"Grade : Pass\")\n",
    "grade()\n",
    "\n",
    "if(Marks_Of_Chemistry >40) and (Marks_Of_Physics>40)  and (Marks_Of_Maths>40):\n",
    "    print(\"Status: Pass\")\n",
    "else :\n",
    "    print(\"Fail\")\n"
   ]
  },
  {
   "cell_type": "code",
   "execution_count": null,
   "metadata": {},
   "outputs": [],
   "source": [
    "email = input(\"Enter Email : \")\n",
    "name = input(\"Name : \")\n",
    "Basic_salary = int(input(\"Salary : \"))\n",
    "experience = int(input(\"Years of experince : \"))\n",
    "hra = Basic_salary*.035\n",
    "da = Basic_salary*.58\n",
    "pf = Basic_salary*0.095\n",
    "a = 0\n",
    "\n",
    "print(\"Name : \", name)\n",
    "print(\"Email : \", email)\n",
    "print(\"Basic Salary : \", Basic_salary)\n",
    "print(\"HRA : \", hra)\n",
    "print(\"DA : \", da)\n",
    "print(\"PF : \", pf)\n",
    "\n",
    "if (experience >= 30):\n",
    "    a = 0.59\n",
    "    print(\"Bonus : \", Basic_salary+(Basic_salary*a))\n",
    "elif (experience>= 23):\n",
    "    a = 0.51\n",
    "    print(\"Bonus : \", Basic_salary+(Basic_salary*a))\n",
    "elif (experience>= 15):\n",
    "    a = 0.45\n",
    "    print(\"Bonus : \", Basic_salary+(Basic_salary*a))\n",
    "elif (experience >= 7):\n",
    "    a = 0.33\n",
    "    print(\"Bonus : \", Basic_salary+(Basic_salary*a))\n",
    "elif (experience<7):\n",
    "    a = 0.16\n",
    "    print(\"Bonus : \", Basic_salary+(Basic_salary*a))\n",
    "\n"
   ]
  },
  {
   "cell_type": "code",
   "execution_count": 8,
   "metadata": {},
   "outputs": [
    {
     "name": "stdout",
     "output_type": "stream",
     "text": [
      "[5 0 3 3 7 9]\n"
     ]
    }
   ],
   "source": [
    "import numpy as np\n",
    "np.random.seed(0)  # seed for reproducibility\n",
    "\n",
    "x1 = np.random.randint(10, size=6)  # One-dimensional array\n",
    "x2 = np.random.randint(10, size=(3, 4))  # Two-dimensional array\n",
    "x3 = np.random.randint(10, size=(3, 4, 5))  # Three-dimensional array\n",
    "print(x1)"
   ]
  },
  {
   "cell_type": "code",
   "execution_count": 14,
   "metadata": {},
   "outputs": [],
   "source": [
    "# version check\n",
    "np.__version__"
   ]
  },
  {
   "cell_type": "code",
   "execution_count": 15,
   "metadata": {},
   "outputs": [
    {
     "name": "stdout",
     "output_type": "stream",
     "text": [
      "\u001b[1;31mDocstring:\u001b[0m\n",
      "zeros(shape, dtype=float, order='C', *, like=None)\n",
      "\n",
      "Return a new array of given shape and type, filled with zeros.\n",
      "\n",
      "Parameters\n",
      "----------\n",
      "shape : int or tuple of ints\n",
      "    Shape of the new array, e.g., ``(2, 3)`` or ``2``.\n",
      "dtype : data-type, optional\n",
      "    The desired data-type for the array, e.g., `numpy.int8`.  Default is\n",
      "    `numpy.float64`.\n",
      "order : {'C', 'F'}, optional, default: 'C'\n",
      "    Whether to store multi-dimensional data in row-major\n",
      "    (C-style) or column-major (Fortran-style) order in\n",
      "    memory.\n",
      "like : array_like, optional\n",
      "    Reference object to allow the creation of arrays which are not\n",
      "    NumPy arrays. If an array-like passed in as ``like`` supports\n",
      "    the ``__array_function__`` protocol, the result will be defined\n",
      "    by it. In this case, it ensures the creation of an array object\n",
      "    compatible with that passed in via this argument.\n",
      "\n",
      "    .. versionadded:: 1.20.0\n",
      "\n",
      "Returns\n",
      "-------\n",
      "out : ndarray\n",
      "    Array of zeros with the given shape, dtype, and order.\n",
      "\n",
      "See Also\n",
      "--------\n",
      "zeros_like : Return an array of zeros with shape and type of input.\n",
      "empty : Return a new uninitialized array.\n",
      "ones : Return a new array setting values to one.\n",
      "full : Return a new array of given shape filled with value.\n",
      "\n",
      "Examples\n",
      "--------\n",
      ">>> np.zeros(5)\n",
      "array([ 0.,  0.,  0.,  0.,  0.])\n",
      "\n",
      ">>> np.zeros((5,), dtype=int)\n",
      "array([0, 0, 0, 0, 0])\n",
      "\n",
      ">>> np.zeros((2, 1))\n",
      "array([[ 0.],\n",
      "       [ 0.]])\n",
      "\n",
      ">>> s = (2,2)\n",
      ">>> np.zeros(s)\n",
      "array([[ 0.,  0.],\n",
      "       [ 0.,  0.]])\n",
      "\n",
      ">>> np.zeros((2,), dtype=[('x', 'i4'), ('y', 'i4')]) # custom dtype\n",
      "array([(0, 0), (0, 0)],\n",
      "      dtype=[('x', '<i4'), ('y', '<i4')])\n",
      "\u001b[1;31mType:\u001b[0m      builtin_function_or_method"
     ]
    }
   ],
   "source": [
    "#HOW TO KNOW ABOUT A FUNCTION, DETAILS SHOW UP\n",
    "np.zeros?\n"
   ]
  },
  {
   "cell_type": "code",
   "execution_count": null,
   "metadata": {},
   "outputs": [],
   "source": [
    "#similarly \n",
    "help(np.zeroes)"
   ]
  },
  {
   "cell_type": "code",
   "execution_count": 22,
   "metadata": {},
   "outputs": [
    {
     "name": "stdout",
     "output_type": "stream",
     "text": [
      "[ 1  2  3  4  5  6  7  8  9 10 11 12 13 14 15 16 17 18 19 20 21 22 23 24\n",
      " 25 26 27 28 29 30 31 32 33 34 35 36 37 38 39 40 41 42 43 44 45 46 47 48\n",
      " 49 50 51 52 53 54 55 56 57 58 59 60 61 62 63 64 65 66 67 68 69 70 71 72\n",
      " 73 74 75 76 77 78 79 80 81 82 83 84 85 86 87 88 89 90 91 92 93 94 95 96\n",
      " 97 98 99]\n"
     ]
    }
   ],
   "source": [
    "#first and last values are starting an ending points respevtively and the first one is inclusie while the last is exclusive\n",
    "arr = np.arange(1,100)\n",
    "print(arr)"
   ]
  },
  {
   "cell_type": "code",
   "execution_count": 23,
   "metadata": {},
   "outputs": [
    {
     "data": {
      "text/plain": [
       "array([ 0,  2,  4,  6,  8, 10, 12, 14, 16, 18, 20, 22, 24, 26, 28, 30, 32,\n",
       "       34, 36, 38, 40, 42, 44, 46, 48, 50, 52, 54, 56, 58, 60, 62, 64, 66,\n",
       "       68, 70, 72, 74, 76, 78, 80, 82, 84, 86, 88, 90, 92, 94, 96, 98])"
      ]
     },
     "execution_count": 23,
     "metadata": {},
     "output_type": "execute_result"
    }
   ],
   "source": [
    "#3rd parameter is steps\n",
    "np.arange(0,100,2)"
   ]
  },
  {
   "cell_type": "code",
   "execution_count": 24,
   "metadata": {},
   "outputs": [
    {
     "data": {
      "text/plain": [
       "array([ 0,  4,  8, 12, 16, 20, 24, 28, 32, 36, 40, 44, 48, 52, 56, 60, 64,\n",
       "       68, 72, 76, 80, 84, 88, 92, 96])"
      ]
     },
     "execution_count": 24,
     "metadata": {},
     "output_type": "execute_result"
    }
   ],
   "source": [
    "#3rd parameter is steps\n",
    "np.arange(0,100,4)"
   ]
  },
  {
   "cell_type": "code",
   "execution_count": 26,
   "metadata": {},
   "outputs": [
    {
     "name": "stdout",
     "output_type": "stream",
     "text": [
      "[-100  -99  -98  -97  -96  -95  -94  -93  -92  -91  -90  -89  -88  -87\n",
      "  -86  -85  -84  -83  -82  -81  -80  -79  -78  -77  -76  -75  -74  -73\n",
      "  -72  -71  -70  -69  -68  -67  -66  -65  -64  -63  -62  -61  -60  -59\n",
      "  -58  -57  -56  -55  -54  -53  -52  -51  -50  -49  -48  -47  -46  -45\n",
      "  -44  -43  -42  -41  -40  -39  -38  -37  -36  -35  -34  -33  -32  -31\n",
      "  -30  -29  -28  -27  -26  -25  -24  -23  -22  -21  -20  -19  -18  -17\n",
      "  -16  -15  -14  -13  -12  -11  -10   -9   -8   -7   -6   -5   -4   -3\n",
      "   -2   -1    0    1    2    3    4    5    6    7    8    9   10   11\n",
      "   12   13   14   15   16   17   18   19   20   21   22   23   24   25\n",
      "   26   27   28   29   30   31   32   33   34   35   36   37   38   39\n",
      "   40   41   42   43   44   45   46   47   48   49   50   51   52   53\n",
      "   54   55   56   57   58   59   60   61   62   63   64   65   66   67\n",
      "   68   69   70   71   72   73   74   75   76   77   78   79   80   81\n",
      "   82   83   84   85   86   87   88   89   90   91   92   93   94   95\n",
      "   96   97   98   99]\n"
     ]
    }
   ],
   "source": [
    "arr = np.arange(-100,100)\n",
    "print(arr)"
   ]
  },
  {
   "cell_type": "code",
   "execution_count": 30,
   "metadata": {},
   "outputs": [
    {
     "data": {
      "text/plain": [
       "array([[0, 1, 2],\n",
       "       [3, 4, 5],\n",
       "       [6, 7, 8]])"
      ]
     },
     "execution_count": 30,
     "metadata": {},
     "output_type": "execute_result"
    }
   ],
   "source": [
    "#shaping\n",
    "np.arange(0,9,).reshape(3,3)"
   ]
  },
  {
   "cell_type": "code",
   "execution_count": 31,
   "metadata": {},
   "outputs": [
    {
     "data": {
      "text/plain": [
       "array({0, 1, 2, 3, 4, 5, 56}, dtype=object)"
      ]
     },
     "execution_count": 31,
     "metadata": {},
     "output_type": "execute_result"
    }
   ],
   "source": [
    "np.array({0,1,2,3,4,56,5,5})"
   ]
  },
  {
   "cell_type": "code",
   "execution_count": null,
   "metadata": {},
   "outputs": [],
   "source": []
  }
 ],
 "metadata": {
  "kernelspec": {
   "display_name": "Python 3",
   "language": "python",
   "name": "python3"
  },
  "language_info": {
   "codemirror_mode": {
    "name": "ipython",
    "version": 3
   },
   "file_extension": ".py",
   "mimetype": "text/x-python",
   "name": "python",
   "nbconvert_exporter": "python",
   "pygments_lexer": "ipython3",
   "version": "3.11.9"
  }
 },
 "nbformat": 4,
 "nbformat_minor": 2
}
